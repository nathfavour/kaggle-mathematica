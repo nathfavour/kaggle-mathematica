{
 "cells": [
  {
   "cell_type": "markdown",
   "id": "5f965089",
   "metadata": {
    "papermill": {
     "duration": 0.003094,
     "end_time": "2024-05-18T17:10:45.659736",
     "exception": false,
     "start_time": "2024-05-18T17:10:45.656642",
     "status": "completed"
    },
    "tags": []
   },
   "source": [
    "This notebook demonstrates the use of the evaluation API for the AIMO competition. It has the following features:\n",
    "- Test problems are served to your model one-at-a-time and in random order. The random ordering will vary across submissions.\n",
    "- Each problem will only be served once. You must make a prediction for each problem before being served the next problem. You cannot change previously made predictions."
   ]
  },
  {
   "cell_type": "code",
   "execution_count": 1,
   "id": "265d687e",
   "metadata": {
    "execution": {
     "iopub.execute_input": "2024-05-18T17:10:45.668032Z",
     "iopub.status.busy": "2024-05-18T17:10:45.666794Z",
     "iopub.status.idle": "2024-05-18T17:10:45.680118Z",
     "shell.execute_reply": "2024-05-18T17:10:45.678892Z"
    },
    "papermill": {
     "duration": 0.020465,
     "end_time": "2024-05-18T17:10:45.683065",
     "exception": false,
     "start_time": "2024-05-18T17:10:45.662600",
     "status": "completed"
    },
    "tags": []
   },
   "outputs": [],
   "source": [
    "# Define your model\n",
    "class Model:\n",
    "    def predict(self, x):\n",
    "        return 0\n",
    "\n",
    "model = Model()"
   ]
  },
  {
   "cell_type": "code",
   "execution_count": 2,
   "id": "e072fa67",
   "metadata": {
    "execution": {
     "iopub.execute_input": "2024-05-18T17:10:45.690377Z",
     "iopub.status.busy": "2024-05-18T17:10:45.689489Z",
     "iopub.status.idle": "2024-05-18T17:10:46.730578Z",
     "shell.execute_reply": "2024-05-18T17:10:46.729256Z"
    },
    "papermill": {
     "duration": 1.047838,
     "end_time": "2024-05-18T17:10:46.733603",
     "exception": false,
     "start_time": "2024-05-18T17:10:45.685765",
     "status": "completed"
    },
    "tags": []
   },
   "outputs": [],
   "source": [
    "# Set up the evaluation API\n",
    "import aimo\n",
    "\n",
    "env = aimo.make_env()\n",
    "iter_test = env.iter_test()"
   ]
  },
  {
   "cell_type": "markdown",
   "id": "9632b45d",
   "metadata": {
    "papermill": {
     "duration": 0.002694,
     "end_time": "2024-05-18T17:10:46.739143",
     "exception": false,
     "start_time": "2024-05-18T17:10:46.736449",
     "status": "completed"
    },
    "tags": []
   },
   "source": [
    "Note that this public version of the API does not randomize the order in which problems are served. The API used when your submission is scored will randomize the order."
   ]
  },
  {
   "cell_type": "code",
   "execution_count": 3,
   "id": "ec53f9d0",
   "metadata": {
    "execution": {
     "iopub.execute_input": "2024-05-18T17:10:46.746421Z",
     "iopub.status.busy": "2024-05-18T17:10:46.745874Z",
     "iopub.status.idle": "2024-05-18T17:10:46.805139Z",
     "shell.execute_reply": "2024-05-18T17:10:46.804093Z"
    },
    "papermill": {
     "duration": 0.065741,
     "end_time": "2024-05-18T17:10:46.807602",
     "exception": false,
     "start_time": "2024-05-18T17:10:46.741861",
     "status": "completed"
    },
    "tags": []
   },
   "outputs": [
    {
     "name": "stdout",
     "output_type": "stream",
     "text": [
      "This version of the API is not optimized and should not be used to estimate the runtime of your code on the hidden test set.\n",
      "       id         problem\n",
      "0  000aaa  What is $1-1$?\n",
      "       id  answer\n",
      "0  000aaa       0 \n",
      "\n",
      "       id               problem\n",
      "0  111bbb  What is $0\\times10$?\n",
      "       id  answer\n",
      "0  111bbb       0 \n",
      "\n",
      "       id                 problem\n",
      "0  222ccc  Solve $4+x=4$ for $x$.\n",
      "       id  answer\n",
      "0  222ccc       0 \n",
      "\n"
     ]
    }
   ],
   "source": [
    "# Iterate through the test set and use the model make predictions\n",
    "for test, sample_submission in iter_test:\n",
    "    sample_submission['answer'] = model.predict(test['problem'])\n",
    "    env.predict(sample_submission)\n",
    "    print(test)\n",
    "    print(sample_submission, '\\n')"
   ]
  }
 ],
 "metadata": {
  "kaggle": {
   "accelerator": "none",
   "dataSources": [
    {
     "databundleVersionId": 8365361,
     "sourceId": 73231,
     "sourceType": "competition"
    }
   ],
   "dockerImageVersionId": 30698,
   "isGpuEnabled": false,
   "isInternetEnabled": false,
   "language": "python",
   "sourceType": "notebook"
  },
  "kernelspec": {
   "display_name": "Python 3",
   "language": "python",
   "name": "python3"
  },
  "language_info": {
   "codemirror_mode": {
    "name": "ipython",
    "version": 3
   },
   "file_extension": ".py",
   "mimetype": "text/x-python",
   "name": "python",
   "nbconvert_exporter": "python",
   "pygments_lexer": "ipython3",
   "version": "3.10.13"
  },
  "papermill": {
   "default_parameters": {},
   "duration": 4.845912,
   "end_time": "2024-05-18T17:10:47.330913",
   "environment_variables": {},
   "exception": null,
   "input_path": "__notebook__.ipynb",
   "output_path": "__notebook__.ipynb",
   "parameters": {},
   "start_time": "2024-05-18T17:10:42.485001",
   "version": "2.5.0"
  }
 },
 "nbformat": 4,
 "nbformat_minor": 5
}
